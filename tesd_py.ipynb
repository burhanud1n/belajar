{
  "nbformat": 4,
  "nbformat_minor": 0,
  "metadata": {
    "colab": {
      "provenance": [],
      "authorship_tag": "ABX9TyNKp5lY56tJObTl4VAi65/3",
      "include_colab_link": true
    },
    "kernelspec": {
      "name": "python3",
      "display_name": "Python 3"
    },
    "language_info": {
      "name": "python"
    }
  },
  "cells": [
    {
      "cell_type": "markdown",
      "metadata": {
        "id": "view-in-github",
        "colab_type": "text"
      },
      "source": [
        "<a href=\"https://colab.research.google.com/github/burhanud1n/belajar/blob/main/tesd_py.ipynb\" target=\"_parent\"><img src=\"https://colab.research.google.com/assets/colab-badge.svg\" alt=\"Open In Colab\"/></a>"
      ]
    },
    {
      "cell_type": "code",
      "source": [
        "def findUnion(a, b):\n",
        "  n = len(a)\n",
        "  m = len(b)\n",
        "  i = 0\n",
        "  j = 0\n",
        "  nl = []\n",
        "\n",
        "  while i < m and j < n:\n",
        "    # sekip angka kembar di baris pertama\n",
        "    if i > 0 and a[i - 1] == a[i]:\n",
        "      i += 1\n",
        "      continue\n",
        "\n",
        "    # skip anga kembar di baris kedua\n",
        "    if j > 0 and b[j - 1] == b[j]:\n",
        "      j += 1\n",
        "      continue\n",
        "\n",
        "    # menambahkan angka terkecil\n",
        "    # jika angka baris pertama lebih kecil\n",
        "    if a[i] < b[j]:\n",
        "      nl.append(a[i])\n",
        "      i += 1\n",
        "\n",
        "    # jika angka baris kedua lebih kecil\n",
        "    elif a[i] > b[j]:\n",
        "      nl.append(b[j])\n",
        "      j += 1\n",
        "\n",
        "    # jika angka sama\n",
        "    else:\n",
        "      nl.append(a[i])\n",
        "      i += 1\n",
        "      j += 1\n",
        "\n",
        "  # menambahkan sisa angka di a[]\n",
        "  while i < n:\n",
        "    if i > 0 and a[i - 1] == a[i]:\n",
        "      i += 1\n",
        "      continue\n",
        "    nl.append(a[i])\n",
        "    i += 1\n",
        "\n",
        "  # menambahkan sisa angka di b[\n",
        "  while j < m:\n",
        "    if j > 0 and b[j - 1] == b[j]:\n",
        "      j += 1\n",
        "      continue\n",
        "    nl.append(b[j])\n",
        "    j += 1\n",
        "\n",
        "    return res\n",
        "\n",
        "if __name__ == \"__main__\":\n",
        "  a = [1, 1, 2, 2, 2, 4]\n",
        "  b = [2, 2, 4, 4]\n",
        "\n",
        "  nl = findUnion(a, b)\n",
        "  for x in nl:\n",
        "    print(x ,end = \" \")"
      ],
      "metadata": {
        "colab": {
          "base_uri": "https://localhost:8080/"
        },
        "id": "vQmGhnDkGT32",
        "outputId": "cd51ca62-f135-4bfa-b4ff-6e87d24d3e73"
      },
      "execution_count": 13,
      "outputs": [
        {
          "output_type": "stream",
          "name": "stdout",
          "text": [
            "1 2 4 "
          ]
        }
      ]
    }
  ]
}