{
  "nbformat": 4,
  "nbformat_minor": 0,
  "metadata": {
    "colab": {
      "provenance": [],
      "authorship_tag": "ABX9TyNvDtDTRWGmenDMxAPAuvIg",
      "include_colab_link": true
    },
    "kernelspec": {
      "name": "python3",
      "display_name": "Python 3"
    },
    "language_info": {
      "name": "python"
    }
  },
  "cells": [
    {
      "cell_type": "markdown",
      "metadata": {
        "id": "view-in-github",
        "colab_type": "text"
      },
      "source": [
        "<a href=\"https://colab.research.google.com/github/burhanud1n/belajar/blob/main/belajar_dict.ipynb\" target=\"_parent\"><img src=\"https://colab.research.google.com/assets/colab-badge.svg\" alt=\"Open In Colab\"/></a>"
      ]
    },
    {
      "cell_type": "code",
      "source": [
        "test_dict = {'Gfg' : 4, 'is' : 5, 'best' : 9}\n",
        "test_list = [8, 3, 2]\n",
        "\n",
        "res = [{key: {val : test_dict[val]}} for key, val in zip(test_list, test_dict)]\n",
        "print(res)\n",
        "\n",
        "test_list.sort()\n",
        "t = {}\n",
        "for key, val in zip(tesAt_list, sorted(test_dict.items())):\n",
        "    t[key] = dict([val])\n",
        "print(t)"
      ],
      "metadata": {
        "id": "Jes-X7cs73Vf"
      },
      "execution_count": null,
      "outputs": []
    }
  ]
}